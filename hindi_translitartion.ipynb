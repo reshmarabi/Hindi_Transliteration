{
 "cells": [
  {
   "cell_type": "markdown",
   "metadata": {},
   "source": [
    "# Transliteration From English To Hindi Using Seq2Seq model "
   ]
  },
  {
   "cell_type": "markdown",
   "metadata": {},
   "source": [
    "### The model intends to pedict the english transliteration for hindi data. The data is downloaded from [here](https://github.com/anoopkunchukuttan/crowd-indic-transliteration-data)"
   ]
  },
  {
   "cell_type": "code",
   "execution_count": 23,
   "metadata": {},
   "outputs": [],
   "source": [
    "import string\n",
    "import numpy as np\n",
    "import tensorflow as tf\n",
    "import tempfile\n",
    "import re\n",
    "from numpy import array, argmax, random, take\n",
    "import pandas as pd\n",
    "from keras.models import Sequential\n",
    "from keras.layers import Dense, LSTM, Embedding, RepeatVector\n",
    "from keras.preprocessing.text import Tokenizer\n",
    "from keras.callbacks import ModelCheckpoint\n",
    "from keras.preprocessing.sequence import pad_sequences\n",
    "from keras.models import load_model\n",
    "from keras import optimizers\n",
    "import matplotlib.pyplot as plt\n",
    "%matplotlib inline\n",
    "pd.set_option('display.max_colwidth', 200)"
   ]
  },
  {
   "cell_type": "code",
   "execution_count": 38,
   "metadata": {},
   "outputs": [],
   "source": [
    "# Give some special vocabulary symbols - append them at the start of each text.\n",
    "_PAD = \"_PAD\"\n",
    "_GO = \"_GO\"\n",
    "_EOS = \"_EOS\"\n",
    "_UNK = \"_UNK\"\n",
    "_START_CHARS = [_PAD, _GO, _EOS, _UNK]\n",
    "\n",
    "PAD_ID = 0\n",
    "GO_ID = 1\n",
    "EOS_ID = 2\n",
    "UNK_ID = 3"
   ]
  },
  {
   "cell_type": "code",
   "execution_count": 39,
   "metadata": {},
   "outputs": [],
   "source": [
    "def get_transliteration_pairs(file_name):\n",
    "    \"\"\"Read the file and get the hindi english pairs\"\"\"\n",
    "    en_hi_lines = open(file_name).read().strip().split('\\n')\n",
    "    en_hi_pairs = [[x.strip().lower() for x in line.split('\\t')]\n",
    "                   for line in en_hi_lines]\n",
    "\n",
    "    return en_hi_pairs"
   ]
  },
  {
   "cell_type": "code",
   "execution_count": 40,
   "metadata": {},
   "outputs": [],
   "source": [
    "def word_to_char_ids(word, char_dict, length=15):\n",
    "    \"\"\"Replace each character in the word to its respective ids using the char_dict\n",
    "    \"\"\"\n",
    "    char_ids = [char_dict.get(x, UNK_ID) for x in word] + [EOS_ID]\n",
    "    if len(char_ids) < length:\n",
    "        char_ids += [PAD_ID] * (length - len(char_ids))\n",
    "    return char_ids\n",
    "\n",
    "def get_char_vocab(script):\n",
    "    \"\"\"\n",
    "    Provide the unique number to each letters in both hindi and english language\n",
    "    \"\"\"\n",
    "    if script == 'devanagari':\n",
    "        chars = _START_CHARS + list(map(chr, range(0x900, 0x97F)))\n",
    "    else:\n",
    "        chars = _START_CHARS + list(string.ascii_letters)\n",
    "    chars_dict = {x: i for i, x in enumerate(chars)}\n",
    "    return chars, chars_dict"
   ]
  },
  {
   "cell_type": "code",
   "execution_count": 41,
   "metadata": {},
   "outputs": [],
   "source": [
    "\n",
    "def data_generator(data):\n",
    "    en_hi_pairs=get_transliteration_pairs(data)\n",
    "    bucket=(16, 16)\n",
    "    pairs = [x for x in en_hi_pairs if\n",
    "                    len(x[0]) + 1 < bucket[0] and\n",
    "                    len(x[1]) + 1 < bucket[1]]\n",
    "    en_chars, en_dict = get_char_vocab('latin')\n",
    "    hi_chars, hi_dict = get_char_vocab('devanagari')\n",
    "    eng_length=len(en_dict.keys())\n",
    "    hin_length=len(hi_dict.keys())\n",
    "    \"\"\"\n",
    "    Vectorise and eaqulise the whole training set\n",
    "    \"\"\"\n",
    "    np.random.shuffle(pairs)\n",
    "    for i in range(0, len(pairs)):\n",
    "        eng_values = [word_to_char_ids(word_pair[0], en_dict, bucket[0])\n",
    "                      for word_pair in pairs[i:i + len(pairs)]]\n",
    "        hin_values = [word_to_char_ids(word_pair[1],hi_dict, bucket[1])\n",
    "                 for word_pair in pairs[i:i + len(pairs)]]\n",
    "        return hin_values,eng_values,hin_length,eng_length"
   ]
  },
  {
   "cell_type": "code",
   "execution_count": 42,
   "metadata": {},
   "outputs": [],
   "source": [
    "X,Y,hin_vocab,eng_vocab=data_generator(\"Hindi - Word Transliteration Pairs 1.txt\")"
   ]
  },
  {
   "cell_type": "code",
   "execution_count": 43,
   "metadata": {},
   "outputs": [],
   "source": [
    "#convert the lists to numpy array\n",
    "X=np.array(X)\n",
    "Y=np.array(Y)"
   ]
  },
  {
   "cell_type": "markdown",
   "metadata": {},
   "source": [
    "## Split the data"
   ]
  },
  {
   "cell_type": "markdown",
   "metadata": {},
   "source": [
    "Split the data to train and test. Use 80% of data to train and rest to test "
   ]
  },
  {
   "cell_type": "code",
   "execution_count": 45,
   "metadata": {},
   "outputs": [],
   "source": [
    "from sklearn.model_selection import train_test_split\n",
    "\n",
    "# split data into train and test set\n",
    "xTrain, xTest, yTrain, yTest = train_test_split(X, Y, test_size = 0.2, random_state = 0)"
   ]
  },
  {
   "cell_type": "markdown",
   "metadata": {},
   "source": [
    "# Model Architecture"
   ]
  },
  {
   "cell_type": "markdown",
   "metadata": {},
   "source": [
    "It is a seq2seq model consist 'encoder' and 'decoder'. The encoder consist LSTM network preceded by an embedding layer. The decoder, LSTM network followed by dense layer."
   ]
  },
  {
   "cell_type": "code",
   "execution_count": 32,
   "metadata": {},
   "outputs": [],
   "source": [
    "def define_model(in_vocab,out_vocab, in_timesteps,out_timesteps,units):\n",
    "      model = Sequential()\n",
    "      model.add(Embedding(in_vocab, units, input_length=in_timesteps, mask_zero=True))\n",
    "      model.add(LSTM(units))\n",
    "      model.add(RepeatVector(out_timesteps))\n",
    "      model.add(LSTM(units, return_sequences=True))\n",
    "      model.add(Dense(out_vocab, activation='softmax'))\n",
    "      return model"
   ]
  },
  {
   "cell_type": "code",
   "execution_count": 33,
   "metadata": {},
   "outputs": [],
   "source": [
    "model = define_model(hin_vocab, eng_vocab, 16, 16, 512)"
   ]
  },
  {
   "cell_type": "code",
   "execution_count": 34,
   "metadata": {},
   "outputs": [],
   "source": [
    "rms = optimizers.RMSprop(lr=0.001)\n",
    "model.compile(optimizer=rms, loss='sparse_categorical_crossentropy')"
   ]
  },
  {
   "cell_type": "markdown",
   "metadata": {},
   "source": [
    "# Run and Save the model"
   ]
  },
  {
   "cell_type": "code",
   "execution_count": 35,
   "metadata": {},
   "outputs": [
    {
     "name": "stdout",
     "output_type": "stream",
     "text": [
      "WARNING:tensorflow:From /usr/local/lib/python3.6/dist-packages/tensorflow/python/ops/math_ops.py:3066: to_int32 (from tensorflow.python.ops.math_ops) is deprecated and will be removed in a future version.\n",
      "Instructions for updating:\n",
      "Use tf.cast instead.\n",
      "WARNING:tensorflow:From /usr/local/lib/python3.6/dist-packages/tensorflow/python/ops/math_grad.py:102: div (from tensorflow.python.ops.math_ops) is deprecated and will be removed in a future version.\n",
      "Instructions for updating:\n",
      "Deprecated in favor of operator or tf.math.divide.\n",
      "Train on 19708 samples, validate on 4927 samples\n",
      "Epoch 1/30\n",
      "19708/19708 [==============================] - 65s 3ms/step - loss: 1.8885 - val_loss: 1.5132\n",
      "\n",
      "Epoch 00001: val_loss improved from inf to 1.51318, saving model to model.h1.29_jan_91\n",
      "Epoch 2/30\n",
      "19708/19708 [==============================] - 62s 3ms/step - loss: 1.4901 - val_loss: 1.6540\n",
      "\n",
      "Epoch 00002: val_loss did not improve from 1.51318\n",
      "Epoch 3/30\n",
      "19708/19708 [==============================] - 62s 3ms/step - loss: 1.3982 - val_loss: 1.2915\n",
      "\n",
      "Epoch 00003: val_loss improved from 1.51318 to 1.29151, saving model to model.h1.29_jan_91\n",
      "Epoch 4/30\n",
      "19708/19708 [==============================] - 62s 3ms/step - loss: 1.2672 - val_loss: 1.2312\n",
      "\n",
      "Epoch 00004: val_loss improved from 1.29151 to 1.23123, saving model to model.h1.29_jan_91\n",
      "Epoch 5/30\n",
      "19708/19708 [==============================] - 62s 3ms/step - loss: 1.1447 - val_loss: 1.0774\n",
      "\n",
      "Epoch 00005: val_loss improved from 1.23123 to 1.07738, saving model to model.h1.29_jan_91\n",
      "Epoch 6/30\n",
      "19708/19708 [==============================] - 62s 3ms/step - loss: 1.0188 - val_loss: 1.0081\n",
      "\n",
      "Epoch 00006: val_loss improved from 1.07738 to 1.00808, saving model to model.h1.29_jan_91\n",
      "Epoch 7/30\n",
      "19708/19708 [==============================] - 61s 3ms/step - loss: 0.9225 - val_loss: 0.8798\n",
      "\n",
      "Epoch 00007: val_loss improved from 1.00808 to 0.87980, saving model to model.h1.29_jan_91\n",
      "Epoch 8/30\n",
      "19708/19708 [==============================] - 61s 3ms/step - loss: 0.8352 - val_loss: 0.8208\n",
      "\n",
      "Epoch 00008: val_loss improved from 0.87980 to 0.82081, saving model to model.h1.29_jan_91\n",
      "Epoch 9/30\n",
      "19708/19708 [==============================] - 61s 3ms/step - loss: 0.7556 - val_loss: 0.7214\n",
      "\n",
      "Epoch 00009: val_loss improved from 0.82081 to 0.72142, saving model to model.h1.29_jan_91\n",
      "Epoch 10/30\n",
      "19708/19708 [==============================] - 62s 3ms/step - loss: 0.6861 - val_loss: 0.7506\n",
      "\n",
      "Epoch 00010: val_loss did not improve from 0.72142\n",
      "Epoch 11/30\n",
      "19708/19708 [==============================] - 61s 3ms/step - loss: 0.6304 - val_loss: 0.6395\n",
      "\n",
      "Epoch 00011: val_loss improved from 0.72142 to 0.63948, saving model to model.h1.29_jan_91\n",
      "Epoch 12/30\n",
      "19708/19708 [==============================] - 61s 3ms/step - loss: 0.5866 - val_loss: 0.6352\n",
      "\n",
      "Epoch 00012: val_loss improved from 0.63948 to 0.63520, saving model to model.h1.29_jan_91\n",
      "Epoch 13/30\n",
      "19708/19708 [==============================] - 61s 3ms/step - loss: 0.5489 - val_loss: 0.5501\n",
      "\n",
      "Epoch 00013: val_loss improved from 0.63520 to 0.55014, saving model to model.h1.29_jan_91\n",
      "Epoch 14/30\n",
      "19708/19708 [==============================] - 61s 3ms/step - loss: 0.5217 - val_loss: 0.5141\n",
      "\n",
      "Epoch 00014: val_loss improved from 0.55014 to 0.51413, saving model to model.h1.29_jan_91\n",
      "Epoch 15/30\n",
      "19708/19708 [==============================] - 61s 3ms/step - loss: 0.4926 - val_loss: 0.5145\n",
      "\n",
      "Epoch 00015: val_loss did not improve from 0.51413\n",
      "Epoch 16/30\n",
      "19708/19708 [==============================] - 61s 3ms/step - loss: 0.4721 - val_loss: 0.4924\n",
      "\n",
      "Epoch 00016: val_loss improved from 0.51413 to 0.49242, saving model to model.h1.29_jan_91\n",
      "Epoch 17/30\n",
      "19708/19708 [==============================] - 61s 3ms/step - loss: 0.4547 - val_loss: 0.4667\n",
      "\n",
      "Epoch 00017: val_loss improved from 0.49242 to 0.46673, saving model to model.h1.29_jan_91\n",
      "Epoch 18/30\n",
      "19708/19708 [==============================] - 62s 3ms/step - loss: 0.4379 - val_loss: 0.5012\n",
      "\n",
      "Epoch 00018: val_loss did not improve from 0.46673\n",
      "Epoch 19/30\n",
      "19708/19708 [==============================] - 61s 3ms/step - loss: 0.4225 - val_loss: 0.4562\n",
      "\n",
      "Epoch 00019: val_loss improved from 0.46673 to 0.45617, saving model to model.h1.29_jan_91\n",
      "Epoch 20/30\n",
      "19708/19708 [==============================] - 61s 3ms/step - loss: 0.4073 - val_loss: 0.4305\n",
      "\n",
      "Epoch 00020: val_loss improved from 0.45617 to 0.43047, saving model to model.h1.29_jan_91\n",
      "Epoch 21/30\n",
      "19708/19708 [==============================] - 62s 3ms/step - loss: 0.3940 - val_loss: 0.4864\n",
      "\n",
      "Epoch 00021: val_loss did not improve from 0.43047\n",
      "Epoch 22/30\n",
      "19708/19708 [==============================] - 61s 3ms/step - loss: 0.3824 - val_loss: 0.4844\n",
      "\n",
      "Epoch 00022: val_loss did not improve from 0.43047\n",
      "Epoch 23/30\n",
      "19708/19708 [==============================] - 61s 3ms/step - loss: 0.3745 - val_loss: 0.4241\n",
      "\n",
      "Epoch 00023: val_loss improved from 0.43047 to 0.42406, saving model to model.h1.29_jan_91\n",
      "Epoch 24/30\n",
      "19708/19708 [==============================] - 61s 3ms/step - loss: 0.3657 - val_loss: 0.4117\n",
      "\n",
      "Epoch 00024: val_loss improved from 0.42406 to 0.41171, saving model to model.h1.29_jan_91\n",
      "Epoch 25/30\n",
      "19708/19708 [==============================] - 61s 3ms/step - loss: 0.3541 - val_loss: 0.4612\n",
      "\n",
      "Epoch 00025: val_loss did not improve from 0.41171\n",
      "Epoch 26/30\n",
      "19708/19708 [==============================] - 61s 3ms/step - loss: 0.3469 - val_loss: 0.4287\n",
      "\n",
      "Epoch 00026: val_loss did not improve from 0.41171\n",
      "Epoch 27/30\n",
      "19708/19708 [==============================] - 61s 3ms/step - loss: 0.3367 - val_loss: 0.4662\n",
      "\n",
      "Epoch 00027: val_loss did not improve from 0.41171\n",
      "Epoch 28/30\n",
      "19708/19708 [==============================] - 61s 3ms/step - loss: 0.3321 - val_loss: 0.4181\n",
      "\n",
      "Epoch 00028: val_loss did not improve from 0.41171\n",
      "Epoch 29/30\n",
      "19708/19708 [==============================] - 61s 3ms/step - loss: 0.3193 - val_loss: 0.4126\n",
      "\n",
      "Epoch 00029: val_loss did not improve from 0.41171\n",
      "Epoch 30/30\n",
      "19708/19708 [==============================] - 61s 3ms/step - loss: 0.3168 - val_loss: 0.4704\n",
      "\n",
      "Epoch 00030: val_loss did not improve from 0.41171\n"
     ]
    }
   ],
   "source": [
    "filename = 'model.h1.hi_en'\n",
    "checkpoint = ModelCheckpoint(filename, monitor='val_loss', verbose=1, save_best_only=True, mode='min')\n",
    "\n",
    "# train model\n",
    "history = model.fit(xTrain, yTrain.reshape(yTrain.shape[0], yTrain.shape[1], 1),\n",
    "                    epochs=30, batch_size=512, validation_split = 0.2,callbacks=[checkpoint], \n",
    "                    verbose=1)"
   ]
  },
  {
   "cell_type": "markdown",
   "metadata": {},
   "source": [
    "# Plot the loss"
   ]
  },
  {
   "cell_type": "code",
   "execution_count": 47,
   "metadata": {},
   "outputs": [
    {
     "data": {
      "image/png": "[encoded data removed]",
      "text/plain": [
       "<Figure size 432x288 with 1 Axes>"
      ]
     },
     "metadata": {},
     "output_type": "display_data"
    }
   ],
   "source": [
    "plt.plot(history.history['loss'])\n",
    "plt.plot(history.history['val_loss'])\n",
    "plt.legend(['train','validation'])\n",
    "plt.show()"
   ]
  },
  {
   "cell_type": "code",
   "execution_count": null,
   "metadata": {},
   "outputs": [],
   "source": []
  }
 ],
 "metadata": {
  "kernelspec": {
   "display_name": "Python 3",
   "language": "python",
   "name": "python3"
  },
  "language_info": {
   "codemirror_mode": {
    "name": "ipython",
    "version": 3
   },
   "file_extension": ".py",
   "mimetype": "text/x-python",
   "name": "python",
   "nbconvert_exporter": "python",
   "pygments_lexer": "ipython3",
   "version": "3.6.8"
  }
 },
 "nbformat": 4,
 "nbformat_minor": 2
}
